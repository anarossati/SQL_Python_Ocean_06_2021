{
  "nbformat": 4,
  "nbformat_minor": 0,
  "metadata": {
    "colab": {
      "name": "python_sql.ipynb",
      "provenance": [],
      "include_colab_link": true
    },
    "kernelspec": {
      "name": "python3",
      "display_name": "Python 3"
    },
    "language_info": {
      "name": "python"
    }
  },
  "cells": [
    {
      "cell_type": "markdown",
      "metadata": {
        "id": "view-in-github",
        "colab_type": "text"
      },
      "source": [
        "<a href=\"https://colab.research.google.com/github/anarossati/SQL_Python_Ocean_06_2021/blob/main/python_sql.ipynb\" target=\"_parent\"><img src=\"https://colab.research.google.com/assets/colab-badge.svg\" alt=\"Open In Colab\"/></a>"
      ]
    },
    {
      "cell_type": "markdown",
      "metadata": {
        "id": "-Dbt7Xva49sZ"
      },
      "source": [
        "# Banco de Dados"
      ]
    },
    {
      "cell_type": "markdown",
      "metadata": {
        "id": "yJGUBi1F7NcO"
      },
      "source": [
        "\n",
        "\n",
        "* Componentes\n",
        "  * Base de dados\n",
        "  * Sistema Gerenciador de Bando de Dados (SGDB)\n",
        "  * Linguagem de Manipulação\n",
        "    *  Structered Query Language (SQL)\n",
        "  * Programas adicionais\n",
        "\n",
        "* Arquitetura\n",
        "  * Cliente-Servidor"
      ]
    },
    {
      "cell_type": "markdown",
      "metadata": {
        "id": "HpT7Tv649Cbl"
      },
      "source": [
        "## Modelo Relacional\n",
        "  \n",
        "| nome | tipo | level | capturado em|\n",
        "|---- |----|-----|----|\n",
        "|Pikachu| Elétrico| 5| 08 jun 2021|\n",
        "|Bulbassauro| Grama| 10| 10 fev 1990|\n",
        "|Squirtle| Água| 12| 23 out 2015|\n",
        "\n",
        "Tabela ou Relação\n",
        "\n",
        "Linhas, Intâncias, Entradas, Registros, Tupla\n",
        "\n",
        "Colunas, atributos, características"
      ]
    },
    {
      "cell_type": "markdown",
      "metadata": {
        "id": "xoFrbKU3IKlg"
      },
      "source": [
        "## Implementação em SQL\n",
        "\n",
        "* dialetos: MySQL, PostreSQL, MariaDB, Oracle etc\n",
        "\n",
        "* MySQL online: https://paiza.io/en/projects/new?language=mysql\n",
        "* PostgreSQL as a Service: https://www.elephantsql.com/\n",
        "* Sqlite e PostgreSQL: https://sqliteonline.com/"
      ]
    },
    {
      "cell_type": "markdown",
      "metadata": {
        "id": "PVg1sQFVfksE"
      },
      "source": [
        "#### Criando um banco de dados dentro do SGDB\n",
        "* MySQL\n",
        "      CREATE DATABASE [IF NOT EXISTS] db_name\n",
        "*PostgreSQL\n",
        "      CREATE DATABASE name\n",
        "*SQLite\n",
        "      # Não tem (nesse formato)"
      ]
    },
    {
      "cell_type": "markdown",
      "metadata": {
        "id": "gvE9m0ikXRH0"
      },
      "source": [
        "### Linguagem de Descrição de Dados (DDL)"
      ]
    },
    {
      "cell_type": "markdown",
      "metadata": {
        "id": "c8G2ku7LIVew"
      },
      "source": [
        "\n",
        "#### CREATE (Criar)\n",
        "      CREATE [TEMPORARY] TABLE [IF NOT EXISTS] tbl_name\n",
        "      [column_name column_type column_constraint, ...]\n",
        "      [table_constraints, ...]\n",
        "\n",
        "[MySQL types](https://dev.mysql.com/doc/refman/8.0/en/data-types.html) \n",
        "\\- [PostrgreSQL types](https://www.postgresql.org/docs/9.5/datatype.html)\n",
        "\\- [SQLite types](https://www.sqlite.org/datatype3.html)\n",
        "\n",
        "* Most used Constraints:\n",
        "\n",
        "#### ALTER (alterar)\n",
        "      ALTER TABLE tbl_name [alter_option, ...]\n",
        "\n",
        "#### DROP (descartar)\n",
        "      DROP TABLE [ IF EXISTS ] tbl_name [, ...]\n"
      ]
    },
    {
      "cell_type": "markdown",
      "metadata": {
        "id": "20qtCK5KXXV2"
      },
      "source": [
        "### Linguagem de Manipulação de Dados (DML)"
      ]
    },
    {
      "cell_type": "markdown",
      "metadata": {
        "id": "7TrnHGKyY_Xg"
      },
      "source": [
        "\n",
        "#### INSERT (inserir)\n",
        "\n",
        "      INSERT  INTO tbl_name[(col_name [, col_name] ...)]\n",
        "      VALUES (value_list) [, (value_list)] ...```\n",
        "\n",
        "\n",
        "#### UPDATE (atualizar)\n",
        "      UPDATE table_reference\n",
        "      SET assignment_list\n",
        "      [WHERE where_condition]\n",
        "\n",
        "#### DELETE (deletar) \n",
        "      DELETE FROM tbl_name [WHERE where_condition]"
      ]
    },
    {
      "cell_type": "markdown",
      "metadata": {
        "id": "n3dC6xmDXiSK"
      },
      "source": [
        "### Linguagem de Consulta de Dados (DQL)"
      ]
    },
    {
      "cell_type": "markdown",
      "metadata": {
        "id": "Ri-mfwljZkDS"
      },
      "source": [
        "\n",
        "#### SELECT (SELECIONAR)\n",
        "\n",
        "      SELECT [ALL | ISTINCT | DISTINCTROW ]\n",
        "      select_expr [, select_expr] ...\n",
        "      [FROM table_references\n",
        "      [WHERE where_condition]\n",
        "      [GROUP BY {col_name | expr | position}, ...]\n",
        "      [HAVING where_condition]\n",
        "      [ORDER BY {col_name | expr | position} [ASC | DESC], ...]\n",
        "      [LIMIT {[offset,] row_count | row_count OFFSET offset}]"
      ]
    },
    {
      "cell_type": "markdown",
      "metadata": {
        "id": "TP3vSGkkYGD2"
      },
      "source": [
        "#### JOINS"
      ]
    },
    {
      "cell_type": "markdown",
      "metadata": {
        "id": "hYWPqX7sXvg0"
      },
      "source": [
        "### Linguagem de Transação de Dados (DTL)\n",
        "### Linguagem de Controle de Dados (DCL)"
      ]
    },
    {
      "cell_type": "markdown",
      "metadata": {
        "id": "TAt46ZKS5AId"
      },
      "source": [
        "# Integração com Python\n"
      ]
    },
    {
      "cell_type": "code",
      "metadata": {
        "id": "ZKVdyVB9dv5O"
      },
      "source": [
        "import sqlite3"
      ],
      "execution_count": 1,
      "outputs": []
    },
    {
      "cell_type": "code",
      "metadata": {
        "id": "pJhiLOY3BUAA"
      },
      "source": [
        "con = sqlite3.connect(\"banco_teste.db\")"
      ],
      "execution_count": 2,
      "outputs": []
    },
    {
      "cell_type": "code",
      "metadata": {
        "id": "lxm0C7M-COx-",
        "outputId": "a629cae9-3b01-4035-accb-8efbfbfb7232",
        "colab": {
          "base_uri": "https://localhost:8080/"
        }
      },
      "source": [
        "con.execute(\"\"\"CREATE TABLE Pokemons(\n",
        "  id INTEGER PRIMARY KEY AUTOINCREMENT NOT NULL,\n",
        "  nome VARCHAR(20)\n",
        "  )\"\"\")"
      ],
      "execution_count": 3,
      "outputs": [
        {
          "output_type": "execute_result",
          "data": {
            "text/plain": [
              "<sqlite3.Cursor at 0x7f4e8795ab20>"
            ]
          },
          "metadata": {
            "tags": []
          },
          "execution_count": 3
        }
      ]
    },
    {
      "cell_type": "code",
      "metadata": {
        "id": "UBp0R9tADnpF",
        "outputId": "94185df9-979c-48ec-f660-4eaf7201fc9b",
        "colab": {
          "base_uri": "https://localhost:8080/"
        }
      },
      "source": [
        "con.execute(\"INSERT INTO Pokemons (nome) VALUES ('Pikachu')\")"
      ],
      "execution_count": 4,
      "outputs": [
        {
          "output_type": "execute_result",
          "data": {
            "text/plain": [
              "<sqlite3.Cursor at 0x7f4e8795a730>"
            ]
          },
          "metadata": {
            "tags": []
          },
          "execution_count": 4
        }
      ]
    },
    {
      "cell_type": "code",
      "metadata": {
        "id": "N-RgmACOD6Cr"
      },
      "source": [
        "rs = con.execute(\"SELECT * FROM Pokemons\")"
      ],
      "execution_count": 5,
      "outputs": []
    },
    {
      "cell_type": "code",
      "metadata": {
        "id": "oQ2zeM_oECu7",
        "outputId": "7224660b-0e0c-4f4d-bc1f-e7915c794404",
        "colab": {
          "base_uri": "https://localhost:8080/"
        }
      },
      "source": [
        "list(rs)"
      ],
      "execution_count": 6,
      "outputs": [
        {
          "output_type": "execute_result",
          "data": {
            "text/plain": [
              "[(1, 'Pikachu')]"
            ]
          },
          "metadata": {
            "tags": []
          },
          "execution_count": 6
        }
      ]
    },
    {
      "cell_type": "markdown",
      "metadata": {
        "id": "xbuuL1MVEAr7"
      },
      "source": [
        ""
      ]
    },
    {
      "cell_type": "markdown",
      "metadata": {
        "id": "ycud47HIdOVJ"
      },
      "source": [
        "## SQLAlchemy\n",
        "\n",
        "É um *framework* desenvolvido para permitir programar aplicações que usem Banco de dados, de maneira inpedepende e com diferentes tipos de abstração:\n",
        "\n",
        "* Raw SQL (SQL Bruto)\n",
        "* SQL Expression Language (Linguagem de Expressão SQL)\n",
        "* Object-Relational Mapping - ORM (Mapeamento Objeto-Relacional)"
      ]
    },
    {
      "cell_type": "markdown",
      "metadata": {
        "id": "xkmJRY4qlVLV"
      },
      "source": [
        "### Raw SQL"
      ]
    },
    {
      "cell_type": "code",
      "metadata": {
        "id": "43Z4r8B6e13j"
      },
      "source": [
        "from sqlalchemy import create_engine\n",
        "from sqlalchemy.sql import text"
      ],
      "execution_count": 7,
      "outputs": []
    },
    {
      "cell_type": "code",
      "metadata": {
        "id": "dHK2afB3e9B9"
      },
      "source": [
        "# Cria a engine para o banco de dados\n",
        "eng = create_engine(\"sqlite:///cars.db\")\n",
        "#eng_postgres = create_engine(\"postgresql://\") #url d banco criado na nuvem"
      ],
      "execution_count": 8,
      "outputs": []
    },
    {
      "cell_type": "code",
      "metadata": {
        "id": "IRgjn4_ne9fl"
      },
      "source": [
        "# abre uma conexão com o banco e executa código SQL\n",
        "with eng.connect() as con:\n",
        "  con.execute(text('DROP TABLE IF EXISTS Cars'))\n",
        "  con.execute(text('''CREATE TABLE Cars(Id INTEGER PRIMARY KEY, \n",
        "                   Name TEXT, Price INTEGER)'''))"
      ],
      "execution_count": 9,
      "outputs": []
    },
    {
      "cell_type": "code",
      "metadata": {
        "id": "_w9UJO30G1b9"
      },
      "source": [
        "with eng.connect() as con:\n",
        "  con.execute(text(\"INSERT INTO Cars(Id, Name, Price) VALUES (9, 'Fusca', 1000)\"))"
      ],
      "execution_count": 10,
      "outputs": []
    },
    {
      "cell_type": "code",
      "metadata": {
        "id": "xqeeDZJe5Q30"
      },
      "source": [
        "data = [{ \"Id\": 1, \"Name\": \"Audi\", \"Price\": 52642 },\n",
        "        { \"Id\": 2, \"Name\": \"Mercedes\", \"Price\": 57127 },\n",
        "        { \"Id\": 3, \"Name\": \"Skoda\", \"Price\": 9000 },\n",
        "        { \"Id\": 4, \"Name\": \"Volvo\", \"Price\": 29000 },\n",
        "        { \"Id\": 5, \"Name\": \"Bentley\", \"Price\": 350000 },\n",
        "        { \"Id\": 6, \"Name\": \"Citroen\", \"Price\": 21000 },\n",
        "        { \"Id\": 7, \"Name\": \"Hummer\", \"Price\": 41400 },\n",
        "        { \"Id\": 8, \"Name\": \"Volkswagen\", \"Price\": 21600 }\n",
        "]\n",
        "# Inserindo dados\n",
        "with eng.connect() as con:\n",
        "  for line in data:\n",
        "    con.execute(text(\"\"\"INSERT INTO Cars(Id, Name, Price) VALUES(:Id, :Name, :Price)\"\"\"), **line)"
      ],
      "execution_count": 11,
      "outputs": []
    },
    {
      "cell_type": "code",
      "metadata": {
        "id": "noCVlsudnNjw",
        "outputId": "dda84b6f-2630-447a-e3a4-1bbb2882141d",
        "colab": {
          "base_uri": "https://localhost:8080/"
        }
      },
      "source": [
        "# Recebendo dados\n",
        "with eng.connect() as con:\n",
        "  rs = con.execute(text(\"SELECT * FROM Cars\"))\n",
        "  print(rs.fetchone())\n",
        "  print(rs.fetchmany(3))\n",
        "  print(rs.fetchall())"
      ],
      "execution_count": 12,
      "outputs": [
        {
          "output_type": "stream",
          "text": [
            "(1, 'Audi', 52642)\n",
            "[(2, 'Mercedes', 57127), (3, 'Skoda', 9000), (4, 'Volvo', 29000)]\n",
            "[(5, 'Bentley', 350000), (6, 'Citroen', 21000), (7, 'Hummer', 41400), (8, 'Volkswagen', 21600), (9, 'Fusca', 1000)]\n"
          ],
          "name": "stdout"
        }
      ]
    },
    {
      "cell_type": "markdown",
      "metadata": {
        "id": "EveWKrLRla8H"
      },
      "source": [
        "### SQL Expression Language"
      ]
    },
    {
      "cell_type": "markdown",
      "metadata": {
        "id": "ZPyo6rutB2AL"
      },
      "source": [
        "#### Definição de Schemas"
      ]
    },
    {
      "cell_type": "code",
      "metadata": {
        "id": "YZvtvQItuCaE"
      },
      "source": [
        "from sqlalchemy import Table, Column, Integer, String, MetaData"
      ],
      "execution_count": 13,
      "outputs": []
    },
    {
      "cell_type": "code",
      "metadata": {
        "id": "HFbX93EquL4Y"
      },
      "source": [
        "# Cria um ojeto de metadata. Metadatas são coleções de tabelas e sua infos\n",
        "meta = MetaData()"
      ],
      "execution_count": 14,
      "outputs": []
    },
    {
      "cell_type": "code",
      "metadata": {
        "id": "On7w0SKE5SX5"
      },
      "source": [
        "#Cria um objeto do tipo tabela que abstrai uma tabela no Banco de dados\n",
        "cars = Table('Cars', meta,\n",
        "     Column('Id', Integer, primary_key=True),\n",
        "     Column('Name', String),\n",
        "     Column('Price', Integer)\n",
        ")"
      ],
      "execution_count": 15,
      "outputs": []
    },
    {
      "cell_type": "code",
      "metadata": {
        "id": "QSQ0R2I2vqGA",
        "outputId": "5f92126b-9b71-4fcd-e7b5-f8e278dfad47",
        "colab": {
          "base_uri": "https://localhost:8080/"
        }
      },
      "source": [
        "print (\"The Name column:\")\n",
        "print (cars.columns.Name)\n",
        "print (cars.c.Name)\n",
        "\n",
        "print (\"Columns: \")\n",
        "for col in cars.c:\n",
        "    print (col)\n",
        "    \n",
        "print (\"Primary keys:\")\n",
        "for pk in cars.primary_key:\n",
        "    print (pk)    \n",
        "\n",
        "print (\"The Id column:\")\n",
        "print (cars.c.Id.name)\n",
        "print (cars.c.Id.type)\n",
        "print (cars.c.Id.nullable)\n",
        "print (cars.c.Id.primary_key)"
      ],
      "execution_count": 16,
      "outputs": [
        {
          "output_type": "stream",
          "text": [
            "The Name column:\n",
            "Cars.Name\n",
            "Cars.Name\n",
            "Columns: \n",
            "Cars.Id\n",
            "Cars.Name\n",
            "Cars.Price\n",
            "Primary keys:\n",
            "Cars.Id\n",
            "The Id column:\n",
            "Id\n",
            "INTEGER\n",
            "False\n",
            "True\n"
          ],
          "name": "stdout"
        }
      ]
    },
    {
      "cell_type": "code",
      "metadata": {
        "id": "sETO8J31blix",
        "outputId": "b8d0dfcc-2204-4eba-9ff3-7d0c39d578f4",
        "colab": {
          "base_uri": "https://localhost:8080/"
        }
      },
      "source": [
        "meta.reflect(bind=eng)\n",
        "for table in meta.tables:\n",
        "    print(table)"
      ],
      "execution_count": 17,
      "outputs": [
        {
          "output_type": "stream",
          "text": [
            "Cars\n"
          ],
          "name": "stdout"
        }
      ]
    },
    {
      "cell_type": "code",
      "metadata": {
        "id": "lZwvcYMIwj5A"
      },
      "source": [
        "from sqlalchemy import inspect"
      ],
      "execution_count": 18,
      "outputs": []
    },
    {
      "cell_type": "code",
      "metadata": {
        "id": "dwYuaiXzwkD0",
        "outputId": "a7415435-4428-43af-aac4-45817c731918",
        "colab": {
          "base_uri": "https://localhost:8080/"
        }
      },
      "source": [
        "insp = inspect(eng)\n",
        "print(insp.get_table_names())\n",
        "print(insp.get_columns(\"Cars\"))\n",
        "print(insp.get_pk_constraint(\"Cars\")) "
      ],
      "execution_count": 19,
      "outputs": [
        {
          "output_type": "stream",
          "text": [
            "['Cars']\n",
            "[{'name': 'Id', 'type': INTEGER(), 'nullable': True, 'default': None, 'autoincrement': 'auto', 'primary_key': 1}, {'name': 'Name', 'type': TEXT(), 'nullable': True, 'default': None, 'autoincrement': 'auto', 'primary_key': 0}, {'name': 'Price', 'type': INTEGER(), 'nullable': True, 'default': None, 'autoincrement': 'auto', 'primary_key': 0}]\n",
            "{'constrained_columns': ['Id'], 'name': None}\n"
          ],
          "name": "stdout"
        }
      ]
    },
    {
      "cell_type": "markdown",
      "metadata": {
        "id": "Agcoc-q-Cg56"
      },
      "source": [
        "#### Expression Language"
      ]
    },
    {
      "cell_type": "code",
      "metadata": {
        "id": "cLS3_Jf4Skw6"
      },
      "source": [
        "from sqlalchemy.sql import select "
      ],
      "execution_count": 20,
      "outputs": []
    },
    {
      "cell_type": "code",
      "metadata": {
        "id": "Uv8wn1nyRAEm",
        "outputId": "e6cb98a6-7b5d-4417-9c16-1d7bab7b71d2",
        "colab": {
          "base_uri": "https://localhost:8080/"
        }
      },
      "source": [
        "# SELECT\n",
        "with eng.connect() as con:\n",
        "  stm = select([cars])\n",
        "  rs = con.execute(stm) \n",
        "  print(rs.fetchall())"
      ],
      "execution_count": 21,
      "outputs": [
        {
          "output_type": "stream",
          "text": [
            "[(1, 'Audi', 52642), (2, 'Mercedes', 57127), (3, 'Skoda', 9000), (4, 'Volvo', 29000), (5, 'Bentley', 350000), (6, 'Citroen', 21000), (7, 'Hummer', 41400), (8, 'Volkswagen', 21600), (9, 'Fusca', 1000)]\n"
          ],
          "name": "stdout"
        }
      ]
    },
    {
      "cell_type": "code",
      "metadata": {
        "id": "X8UXrSJMN97O",
        "outputId": "b88abac8-bd3e-4f69-c87f-0e801afa1127",
        "colab": {
          "base_uri": "https://localhost:8080/"
        }
      },
      "source": [
        "print(stm)"
      ],
      "execution_count": 22,
      "outputs": [
        {
          "output_type": "stream",
          "text": [
            "SELECT \"Cars\".\"Id\", \"Cars\".\"Name\", \"Cars\".\"Price\" \n",
            "FROM \"Cars\"\n"
          ],
          "name": "stdout"
        }
      ]
    },
    {
      "cell_type": "code",
      "metadata": {
        "id": "sRlyPFxFCqFS"
      },
      "source": [
        "# meta2 = MetaData(eng_postgres)\n",
        "# meta2.reflect(bind=eng_postgres)\n",
        "# cars_postgres = Table('cars', meta2, autoload=True)  "
      ],
      "execution_count": 23,
      "outputs": []
    },
    {
      "cell_type": "code",
      "metadata": {
        "id": "n6ZDqVAgQ4qK"
      },
      "source": [
        "# SELECT\n",
        "# with eng.connect() as con:\n",
        "#   stm = select([cars_postgres])\n",
        "#   rs = con.execute(stm) \n",
        "#   print(rs.fetchall())"
      ],
      "execution_count": 24,
      "outputs": []
    },
    {
      "cell_type": "code",
      "metadata": {
        "id": "Ejd6BmTwSrDL",
        "outputId": "e1672eb2-38c7-4262-8277-649ec8c8f858",
        "colab": {
          "base_uri": "https://localhost:8080/"
        }
      },
      "source": [
        "# LIMIT\n",
        "with eng.connect() as con:\n",
        "  stm = select([cars.c.Name, cars.c.Price]).limit(3)\n",
        "  rs = con.execute(stm) \n",
        "  print(rs.fetchall())"
      ],
      "execution_count": 25,
      "outputs": [
        {
          "output_type": "stream",
          "text": [
            "[('Audi', 52642), ('Mercedes', 57127), ('Skoda', 9000)]\n"
          ],
          "name": "stdout"
        }
      ]
    },
    {
      "cell_type": "code",
      "metadata": {
        "id": "hbOXoReDREe4",
        "outputId": "86b81075-dc5d-4ce1-f989-8b3e7c9eaf0a",
        "colab": {
          "base_uri": "https://localhost:8080/"
        }
      },
      "source": [
        "print(stm)"
      ],
      "execution_count": 26,
      "outputs": [
        {
          "output_type": "stream",
          "text": [
            "SELECT \"Cars\".\"Name\", \"Cars\".\"Price\" \n",
            "FROM \"Cars\"\n",
            " LIMIT :param_1\n"
          ],
          "name": "stdout"
        }
      ]
    },
    {
      "cell_type": "code",
      "metadata": {
        "id": "-lszmjhFPDJX"
      },
      "source": [
        "from sqlalchemy.sql import and_, or_  "
      ],
      "execution_count": 27,
      "outputs": []
    },
    {
      "cell_type": "code",
      "metadata": {
        "id": "9kQzzO8KTsJ7",
        "outputId": "6d505680-21ac-4d47-d366-80355aec420b",
        "colab": {
          "base_uri": "https://localhost:8080/"
        }
      },
      "source": [
        "# WHERE\n",
        "with eng.connect() as con:\n",
        "  stm = select([cars]).where(and_(cars.c.Price > 10000, cars.c.Price < 40000))\n",
        "  rs = con.execute(stm) \n",
        "  print(rs.fetchall())"
      ],
      "execution_count": 28,
      "outputs": [
        {
          "output_type": "stream",
          "text": [
            "[(4, 'Volvo', 29000), (6, 'Citroen', 21000), (8, 'Volkswagen', 21600)]\n"
          ],
          "name": "stdout"
        }
      ]
    },
    {
      "cell_type": "code",
      "metadata": {
        "id": "SlDWvpikR_Dg",
        "outputId": "7b9976c8-1166-495c-a2f5-e32e4e415c16",
        "colab": {
          "base_uri": "https://localhost:8080/"
        }
      },
      "source": [
        "#LIKE\n",
        "with eng.connect() as con:\n",
        "  stm = select([cars]).where(cars.c.Name.like('%en'))\n",
        "  rs = con.execute(stm) \n",
        "  print(rs.fetchall())"
      ],
      "execution_count": 29,
      "outputs": [
        {
          "output_type": "stream",
          "text": [
            "[(6, 'Citroen', 21000), (8, 'Volkswagen', 21600)]\n"
          ],
          "name": "stdout"
        }
      ]
    },
    {
      "cell_type": "code",
      "metadata": {
        "id": "GE_tH3xbPk27"
      },
      "source": [
        "from sqlalchemy.sql import asc, desc"
      ],
      "execution_count": 30,
      "outputs": []
    },
    {
      "cell_type": "code",
      "metadata": {
        "id": "TyGt6bunTxjQ",
        "outputId": "ece6159a-c4e0-4def-b5df-52ca37496d4b",
        "colab": {
          "base_uri": "https://localhost:8080/"
        }
      },
      "source": [
        "# Order By\n",
        "with eng.connect() as con:  \n",
        "  s = select([cars]).order_by(asc(cars.c.Name))\n",
        "  rs = con.execute(s) \n",
        "  for row in rs:\n",
        "    print(row['Id'], row['Name'], row['Price'])"
      ],
      "execution_count": 31,
      "outputs": [
        {
          "output_type": "stream",
          "text": [
            "1 Audi 52642\n",
            "5 Bentley 350000\n",
            "6 Citroen 21000\n",
            "9 Fusca 1000\n",
            "7 Hummer 41400\n",
            "2 Mercedes 57127\n",
            "3 Skoda 9000\n",
            "8 Volkswagen 21600\n",
            "4 Volvo 29000\n"
          ],
          "name": "stdout"
        }
      ]
    },
    {
      "cell_type": "code",
      "metadata": {
        "id": "BIp-FYAIVzZ_",
        "outputId": "a842538b-fb16-447e-8565-27406e2af8cc",
        "colab": {
          "base_uri": "https://localhost:8080/",
          "height": 416
        }
      },
      "source": [
        "\n",
        "# ler dos arquivos\n",
        "with eng.connect() as con:\n",
        "  authors = Table('Authors', meta, autoload=True)\n",
        "  books = Table('Books', meta, autoload=True)\n",
        "  stm = select([authors.join(books)])\n",
        "  rs = con.execute(stm) \n",
        "  for row in rs:\n",
        "    print(row['Name'], row['Title'])"
      ],
      "execution_count": 32,
      "outputs": [
        {
          "output_type": "error",
          "ename": "UnboundExecutionError",
          "evalue": "ignored",
          "traceback": [
            "\u001b[0;31m---------------------------------------------------------------------------\u001b[0m",
            "\u001b[0;31mUnboundExecutionError\u001b[0m                     Traceback (most recent call last)",
            "\u001b[0;32m<ipython-input-32-eba12b9d0698>\u001b[0m in \u001b[0;36m<module>\u001b[0;34m()\u001b[0m\n\u001b[1;32m      2\u001b[0m \u001b[0;31m# ler dos arquivos\u001b[0m\u001b[0;34m\u001b[0m\u001b[0;34m\u001b[0m\u001b[0;34m\u001b[0m\u001b[0m\n\u001b[1;32m      3\u001b[0m \u001b[0;32mwith\u001b[0m \u001b[0meng\u001b[0m\u001b[0;34m.\u001b[0m\u001b[0mconnect\u001b[0m\u001b[0;34m(\u001b[0m\u001b[0;34m)\u001b[0m \u001b[0;32mas\u001b[0m \u001b[0mcon\u001b[0m\u001b[0;34m:\u001b[0m\u001b[0;34m\u001b[0m\u001b[0;34m\u001b[0m\u001b[0m\n\u001b[0;32m----> 4\u001b[0;31m   \u001b[0mauthors\u001b[0m \u001b[0;34m=\u001b[0m \u001b[0mTable\u001b[0m\u001b[0;34m(\u001b[0m\u001b[0;34m'Authors'\u001b[0m\u001b[0;34m,\u001b[0m \u001b[0mmeta\u001b[0m\u001b[0;34m,\u001b[0m \u001b[0mautoload\u001b[0m\u001b[0;34m=\u001b[0m\u001b[0;32mTrue\u001b[0m\u001b[0;34m)\u001b[0m\u001b[0;34m\u001b[0m\u001b[0;34m\u001b[0m\u001b[0m\n\u001b[0m\u001b[1;32m      5\u001b[0m   \u001b[0mbooks\u001b[0m \u001b[0;34m=\u001b[0m \u001b[0mTable\u001b[0m\u001b[0;34m(\u001b[0m\u001b[0;34m'Books'\u001b[0m\u001b[0;34m,\u001b[0m \u001b[0mmeta\u001b[0m\u001b[0;34m,\u001b[0m \u001b[0mautoload\u001b[0m\u001b[0;34m=\u001b[0m\u001b[0;32mTrue\u001b[0m\u001b[0;34m)\u001b[0m\u001b[0;34m\u001b[0m\u001b[0;34m\u001b[0m\u001b[0m\n\u001b[1;32m      6\u001b[0m   \u001b[0mstm\u001b[0m \u001b[0;34m=\u001b[0m \u001b[0mselect\u001b[0m\u001b[0;34m(\u001b[0m\u001b[0;34m[\u001b[0m\u001b[0mauthors\u001b[0m\u001b[0;34m.\u001b[0m\u001b[0mjoin\u001b[0m\u001b[0;34m(\u001b[0m\u001b[0mbooks\u001b[0m\u001b[0;34m)\u001b[0m\u001b[0;34m]\u001b[0m\u001b[0;34m)\u001b[0m\u001b[0;34m\u001b[0m\u001b[0;34m\u001b[0m\u001b[0m\n",
            "\u001b[0;32m<string>\u001b[0m in \u001b[0;36m__new__\u001b[0;34m(cls, *args, **kw)\u001b[0m\n",
            "\u001b[0;32m/usr/local/lib/python3.7/dist-packages/sqlalchemy/util/deprecations.py\u001b[0m in \u001b[0;36mwarned\u001b[0;34m(fn, *args, **kwargs)\u001b[0m\n\u001b[1;32m    296\u001b[0m                         \u001b[0mstacklevel\u001b[0m\u001b[0;34m=\u001b[0m\u001b[0;36m3\u001b[0m\u001b[0;34m,\u001b[0m\u001b[0;34m\u001b[0m\u001b[0;34m\u001b[0m\u001b[0m\n\u001b[1;32m    297\u001b[0m                     )\n\u001b[0;32m--> 298\u001b[0;31m             \u001b[0;32mreturn\u001b[0m \u001b[0mfn\u001b[0m\u001b[0;34m(\u001b[0m\u001b[0;34m*\u001b[0m\u001b[0margs\u001b[0m\u001b[0;34m,\u001b[0m \u001b[0;34m**\u001b[0m\u001b[0mkwargs\u001b[0m\u001b[0;34m)\u001b[0m\u001b[0;34m\u001b[0m\u001b[0;34m\u001b[0m\u001b[0m\n\u001b[0m\u001b[1;32m    299\u001b[0m \u001b[0;34m\u001b[0m\u001b[0m\n\u001b[1;32m    300\u001b[0m         \u001b[0mdoc\u001b[0m \u001b[0;34m=\u001b[0m \u001b[0mfn\u001b[0m\u001b[0;34m.\u001b[0m\u001b[0m__doc__\u001b[0m \u001b[0;32mis\u001b[0m \u001b[0;32mnot\u001b[0m \u001b[0;32mNone\u001b[0m \u001b[0;32mand\u001b[0m \u001b[0mfn\u001b[0m\u001b[0;34m.\u001b[0m\u001b[0m__doc__\u001b[0m \u001b[0;32mor\u001b[0m \u001b[0;34m\"\"\u001b[0m\u001b[0;34m\u001b[0m\u001b[0;34m\u001b[0m\u001b[0m\n",
            "\u001b[0;32m/usr/local/lib/python3.7/dist-packages/sqlalchemy/sql/schema.py\u001b[0m in \u001b[0;36m__new__\u001b[0;34m(cls, *args, **kw)\u001b[0m\n\u001b[1;32m    598\u001b[0m             \u001b[0;32mexcept\u001b[0m \u001b[0mException\u001b[0m\u001b[0;34m:\u001b[0m\u001b[0;34m\u001b[0m\u001b[0;34m\u001b[0m\u001b[0m\n\u001b[1;32m    599\u001b[0m                 \u001b[0;32mwith\u001b[0m \u001b[0mutil\u001b[0m\u001b[0;34m.\u001b[0m\u001b[0msafe_reraise\u001b[0m\u001b[0;34m(\u001b[0m\u001b[0;34m)\u001b[0m\u001b[0;34m:\u001b[0m\u001b[0;34m\u001b[0m\u001b[0;34m\u001b[0m\u001b[0m\n\u001b[0;32m--> 600\u001b[0;31m                     \u001b[0mmetadata\u001b[0m\u001b[0;34m.\u001b[0m\u001b[0m_remove_table\u001b[0m\u001b[0;34m(\u001b[0m\u001b[0mname\u001b[0m\u001b[0;34m,\u001b[0m \u001b[0mschema\u001b[0m\u001b[0;34m)\u001b[0m\u001b[0;34m\u001b[0m\u001b[0;34m\u001b[0m\u001b[0m\n\u001b[0m\u001b[1;32m    601\u001b[0m \u001b[0;34m\u001b[0m\u001b[0m\n\u001b[1;32m    602\u001b[0m     \u001b[0;32mdef\u001b[0m \u001b[0m__init__\u001b[0m\u001b[0;34m(\u001b[0m\u001b[0mself\u001b[0m\u001b[0;34m,\u001b[0m \u001b[0;34m*\u001b[0m\u001b[0margs\u001b[0m\u001b[0;34m,\u001b[0m \u001b[0;34m**\u001b[0m\u001b[0mkw\u001b[0m\u001b[0;34m)\u001b[0m\u001b[0;34m:\u001b[0m\u001b[0;34m\u001b[0m\u001b[0;34m\u001b[0m\u001b[0m\n",
            "\u001b[0;32m/usr/local/lib/python3.7/dist-packages/sqlalchemy/util/langhelpers.py\u001b[0m in \u001b[0;36m__exit__\u001b[0;34m(self, type_, value, traceback)\u001b[0m\n\u001b[1;32m     70\u001b[0m                 compat.raise_(\n\u001b[1;32m     71\u001b[0m                     \u001b[0mexc_value\u001b[0m\u001b[0;34m,\u001b[0m\u001b[0;34m\u001b[0m\u001b[0;34m\u001b[0m\u001b[0m\n\u001b[0;32m---> 72\u001b[0;31m                     \u001b[0mwith_traceback\u001b[0m\u001b[0;34m=\u001b[0m\u001b[0mexc_tb\u001b[0m\u001b[0;34m,\u001b[0m\u001b[0;34m\u001b[0m\u001b[0;34m\u001b[0m\u001b[0m\n\u001b[0m\u001b[1;32m     73\u001b[0m                 )\n\u001b[1;32m     74\u001b[0m         \u001b[0;32melse\u001b[0m\u001b[0;34m:\u001b[0m\u001b[0;34m\u001b[0m\u001b[0;34m\u001b[0m\u001b[0m\n",
            "\u001b[0;32m/usr/local/lib/python3.7/dist-packages/sqlalchemy/util/compat.py\u001b[0m in \u001b[0;36mraise_\u001b[0;34m(***failed resolving arguments***)\u001b[0m\n\u001b[1;32m    209\u001b[0m \u001b[0;34m\u001b[0m\u001b[0m\n\u001b[1;32m    210\u001b[0m         \u001b[0;32mtry\u001b[0m\u001b[0;34m:\u001b[0m\u001b[0;34m\u001b[0m\u001b[0;34m\u001b[0m\u001b[0m\n\u001b[0;32m--> 211\u001b[0;31m             \u001b[0;32mraise\u001b[0m \u001b[0mexception\u001b[0m\u001b[0;34m\u001b[0m\u001b[0;34m\u001b[0m\u001b[0m\n\u001b[0m\u001b[1;32m    212\u001b[0m         \u001b[0;32mfinally\u001b[0m\u001b[0;34m:\u001b[0m\u001b[0;34m\u001b[0m\u001b[0;34m\u001b[0m\u001b[0m\n\u001b[1;32m    213\u001b[0m             \u001b[0;31m# credit to\u001b[0m\u001b[0;34m\u001b[0m\u001b[0;34m\u001b[0m\u001b[0;34m\u001b[0m\u001b[0m\n",
            "\u001b[0;32m/usr/local/lib/python3.7/dist-packages/sqlalchemy/sql/schema.py\u001b[0m in \u001b[0;36m__new__\u001b[0;34m(cls, *args, **kw)\u001b[0m\n\u001b[1;32m    593\u001b[0m             \u001b[0mmetadata\u001b[0m\u001b[0;34m.\u001b[0m\u001b[0m_add_table\u001b[0m\u001b[0;34m(\u001b[0m\u001b[0mname\u001b[0m\u001b[0;34m,\u001b[0m \u001b[0mschema\u001b[0m\u001b[0;34m,\u001b[0m \u001b[0mtable\u001b[0m\u001b[0;34m)\u001b[0m\u001b[0;34m\u001b[0m\u001b[0;34m\u001b[0m\u001b[0m\n\u001b[1;32m    594\u001b[0m             \u001b[0;32mtry\u001b[0m\u001b[0;34m:\u001b[0m\u001b[0;34m\u001b[0m\u001b[0;34m\u001b[0m\u001b[0m\n\u001b[0;32m--> 595\u001b[0;31m                 \u001b[0mtable\u001b[0m\u001b[0;34m.\u001b[0m\u001b[0m_init\u001b[0m\u001b[0;34m(\u001b[0m\u001b[0mname\u001b[0m\u001b[0;34m,\u001b[0m \u001b[0mmetadata\u001b[0m\u001b[0;34m,\u001b[0m \u001b[0;34m*\u001b[0m\u001b[0margs\u001b[0m\u001b[0;34m,\u001b[0m \u001b[0;34m**\u001b[0m\u001b[0mkw\u001b[0m\u001b[0;34m)\u001b[0m\u001b[0;34m\u001b[0m\u001b[0;34m\u001b[0m\u001b[0m\n\u001b[0m\u001b[1;32m    596\u001b[0m                 \u001b[0mtable\u001b[0m\u001b[0;34m.\u001b[0m\u001b[0mdispatch\u001b[0m\u001b[0;34m.\u001b[0m\u001b[0mafter_parent_attach\u001b[0m\u001b[0;34m(\u001b[0m\u001b[0mtable\u001b[0m\u001b[0;34m,\u001b[0m \u001b[0mmetadata\u001b[0m\u001b[0;34m)\u001b[0m\u001b[0;34m\u001b[0m\u001b[0;34m\u001b[0m\u001b[0m\n\u001b[1;32m    597\u001b[0m                 \u001b[0;32mreturn\u001b[0m \u001b[0mtable\u001b[0m\u001b[0;34m\u001b[0m\u001b[0;34m\u001b[0m\u001b[0m\n",
            "\u001b[0;32m/usr/local/lib/python3.7/dist-packages/sqlalchemy/sql/schema.py\u001b[0m in \u001b[0;36m_init\u001b[0;34m(self, name, metadata, *args, **kwargs)\u001b[0m\n\u001b[1;32m    673\u001b[0m                 \u001b[0minclude_columns\u001b[0m\u001b[0;34m,\u001b[0m\u001b[0;34m\u001b[0m\u001b[0;34m\u001b[0m\u001b[0m\n\u001b[1;32m    674\u001b[0m                 \u001b[0m_extend_on\u001b[0m\u001b[0;34m=\u001b[0m\u001b[0m_extend_on\u001b[0m\u001b[0;34m,\u001b[0m\u001b[0;34m\u001b[0m\u001b[0;34m\u001b[0m\u001b[0m\n\u001b[0;32m--> 675\u001b[0;31m                 \u001b[0mresolve_fks\u001b[0m\u001b[0;34m=\u001b[0m\u001b[0mresolve_fks\u001b[0m\u001b[0;34m,\u001b[0m\u001b[0;34m\u001b[0m\u001b[0;34m\u001b[0m\u001b[0m\n\u001b[0m\u001b[1;32m    676\u001b[0m             )\n\u001b[1;32m    677\u001b[0m \u001b[0;34m\u001b[0m\u001b[0m\n",
            "\u001b[0;32m/usr/local/lib/python3.7/dist-packages/sqlalchemy/sql/schema.py\u001b[0m in \u001b[0;36m_autoload\u001b[0;34m(self, metadata, autoload_with, include_columns, exclude_columns, resolve_fks, _extend_on)\u001b[0m\n\u001b[1;32m    696\u001b[0m             autoload_with = _bind_or_error(\n\u001b[1;32m    697\u001b[0m                 \u001b[0mmetadata\u001b[0m\u001b[0;34m,\u001b[0m\u001b[0;34m\u001b[0m\u001b[0;34m\u001b[0m\u001b[0m\n\u001b[0;32m--> 698\u001b[0;31m                 \u001b[0mmsg\u001b[0m\u001b[0;34m=\u001b[0m\u001b[0;34m\"No engine is bound to this Table's MetaData. \"\u001b[0m\u001b[0;34m\u001b[0m\u001b[0;34m\u001b[0m\u001b[0m\n\u001b[0m\u001b[1;32m    699\u001b[0m                 \u001b[0;34m\"Pass an engine to the Table via \"\u001b[0m\u001b[0;34m\u001b[0m\u001b[0;34m\u001b[0m\u001b[0m\n\u001b[1;32m    700\u001b[0m                 \u001b[0;34m\"autoload_with=<someengine_or_connection>\"\u001b[0m\u001b[0;34m,\u001b[0m\u001b[0;34m\u001b[0m\u001b[0;34m\u001b[0m\u001b[0m\n",
            "\u001b[0;32m/usr/local/lib/python3.7/dist-packages/sqlalchemy/sql/base.py\u001b[0m in \u001b[0;36m_bind_or_error\u001b[0;34m(schemaitem, msg)\u001b[0m\n\u001b[1;32m   1576\u001b[0m                 \u001b[0;34m\"against.\"\u001b[0m \u001b[0;34m%\u001b[0m \u001b[0mitem\u001b[0m\u001b[0;34m\u001b[0m\u001b[0;34m\u001b[0m\u001b[0m\n\u001b[1;32m   1577\u001b[0m             )\n\u001b[0;32m-> 1578\u001b[0;31m         \u001b[0;32mraise\u001b[0m \u001b[0mexc\u001b[0m\u001b[0;34m.\u001b[0m\u001b[0mUnboundExecutionError\u001b[0m\u001b[0;34m(\u001b[0m\u001b[0mmsg\u001b[0m\u001b[0;34m)\u001b[0m\u001b[0;34m\u001b[0m\u001b[0;34m\u001b[0m\u001b[0m\n\u001b[0m\u001b[1;32m   1579\u001b[0m     \u001b[0;32mreturn\u001b[0m \u001b[0mbind\u001b[0m\u001b[0;34m\u001b[0m\u001b[0;34m\u001b[0m\u001b[0m\n\u001b[1;32m   1580\u001b[0m \u001b[0;34m\u001b[0m\u001b[0m\n",
            "\u001b[0;31mUnboundExecutionError\u001b[0m: No engine is bound to this Table's MetaData. Pass an engine to the Table via autoload_with=<someengine_or_connection>"
          ]
        }
      ]
    },
    {
      "cell_type": "markdown",
      "metadata": {
        "id": "QZXB3QusS7D4"
      },
      "source": [
        "### Object-Relational Mapping (ORM)"
      ]
    },
    {
      "cell_type": "code",
      "metadata": {
        "id": "L2SQsCCyS_LO"
      },
      "source": [
        "from sqlalchemy.ext.declarative import declarative_base\n",
        "from sqlalchemy import Column, Integer, String\n",
        "from sqlalchemy.orm import sessionmaker\n",
        "from sqlalchemy.exc import IntegrityError"
      ],
      "execution_count": 58,
      "outputs": []
    },
    {
      "cell_type": "code",
      "metadata": {
        "id": "RBPFDGkUUU0D"
      },
      "source": [
        "# Classes Bases e Sessão\n",
        "Base = declarative_base(bind=eng)\n",
        "Session = sessionmaker(bind=eng)"
      ],
      "execution_count": 59,
      "outputs": []
    },
    {
      "cell_type": "code",
      "metadata": {
        "id": "QuwqYhv6UVay"
      },
      "source": [
        "class Car(Base):\n",
        "  __tablename__ = \"Cars\"\n",
        "\n",
        "  id = Column(Integer, primary_key=True, autoincrement=True)\n",
        "  name = Column(String, unique=True)  \n",
        "  price = Column(Integer, nullable=False)\n",
        "\n",
        "  def __repr__(self):\n",
        "    return f\"<Car:{self.name}>\""
      ],
      "execution_count": null,
      "outputs": []
    },
    {
      "cell_type": "code",
      "metadata": {
        "id": "JQ29-R_dU-yE"
      },
      "source": [
        "Base.metadata.create_all()        \n",
        "ses = Session()  "
      ],
      "execution_count": null,
      "outputs": []
    },
    {
      "cell_type": "code",
      "metadata": {
        "id": "yf5iBZkWWHPQ"
      },
      "source": [
        "try:\n",
        "  ses.add(Car(name='Audi', price=52642))\n",
        "  ses.commit()\n",
        "except IntegrityError:\n",
        "  print(\"Já existe um carro com esse nome e valor\")\n",
        "  ses.rollback()\n",
        "ses.close()"
      ],
      "execution_count": null,
      "outputs": []
    },
    {
      "cell_type": "code",
      "metadata": {
        "id": "2GejL_L5U9Dr"
      },
      "source": [
        "with Session() as s:\n",
        "  s.add_all([ \n",
        "    Car(id=2, name='Mercedes', price=57127),\n",
        "    Car(id=3, name='Skoda', price=9000),\n",
        "    Car(id=4, name='Volvo', price=29000),\n",
        "    Car(id=5, name='Bentley', price=350000),\n",
        "    Car(id=6, name='Citroen', price=21000),\n",
        "    Car(id=7, name='Hummer', price=41400),\n",
        "    Car(id=8, name='Volkswagen', price=21600)\n",
        "  ])\n",
        "  s.commit()"
      ],
      "execution_count": null,
      "outputs": []
    },
    {
      "cell_type": "code",
      "metadata": {
        "id": "Cj_72sR3VFEp"
      },
      "source": [
        "# Fazendo a query\n",
        "with Session() as s:\n",
        "  rs = s.query(Car).all()\n",
        "  for car in rs:\n",
        "    print(car.name, car.price)"
      ],
      "execution_count": null,
      "outputs": []
    },
    {
      "cell_type": "code",
      "metadata": {
        "id": "U7PT-4uiVcrA"
      },
      "source": [
        "with Session() as s:\n",
        "  rs = s.query(Car).filter(Car.name.like('%en'))\n",
        "  for car in rs:\n",
        "    print(car.name, car.price)"
      ],
      "execution_count": null,
      "outputs": []
    },
    {
      "cell_type": "code",
      "metadata": {
        "id": "o2HgnKLmYXbi"
      },
      "source": [
        "with Session() as s:\n",
        "  rs = s.query(Car).filter(Car.price >10000).limit(2)\n",
        "  for car in rs:\n",
        "    print(car.name, car.price)"
      ],
      "execution_count": null,
      "outputs": []
    },
    {
      "cell_type": "code",
      "metadata": {
        "id": "-Uv2C6KhWB0u"
      },
      "source": [
        "from sqlalchemy import ForeignKey\n",
        "from sqlalchemy.orm import relationship"
      ],
      "execution_count": 52,
      "outputs": []
    },
    {
      "cell_type": "code",
      "metadata": {
        "id": "r5dFazCvXTfB"
      },
      "source": [
        "class Author(Base):\n",
        "  __tablename__ = \"Authors\"\n",
        " \n",
        "  author_id = Column(Integer, primary_key=True, autoincrement=True)\n",
        "  name = Column(String)  \n",
        "  books = relationship(\"Book\")\n",
        "\n",
        "  def __init__(self, name):\n",
        "    self.name = name\n",
        "\n",
        "  def __repr__(self):\n",
        "    return f\"<Author: {self.name}>\"\n",
        "\n",
        "class Book(Base):\n",
        "  __tablename__ = \"Books\"\n",
        " \n",
        "  book_id = Column(Integer, primary_key=True, autoincrement=True)\n",
        "  title = Column(String)      \n",
        "  author_id = Column(Integer, ForeignKey(\"Authors.author_id\"))    \n",
        "  author = relationship(\"Author\")\n",
        "\n",
        "  def __init__(self, title, author_id):\n",
        "    self.title = title\n",
        "    self.author_id = author_id \n",
        "\n",
        "  def __repr__(self):\n",
        "    return f\"<Book: {self.title} - {self.author.name}>\"                 "
      ],
      "execution_count": 60,
      "outputs": []
    },
    {
      "cell_type": "code",
      "metadata": {
        "id": "kVLsME9waIKf"
      },
      "source": [
        "Base.metadata.create_all()"
      ],
      "execution_count": 61,
      "outputs": []
    },
    {
      "cell_type": "code",
      "metadata": {
        "id": "bNnaPSdJZJzT",
        "outputId": "e4fef66a-a7e3-4af9-91fd-c400fb260452",
        "colab": {
          "base_uri": "https://localhost:8080/"
        }
      },
      "source": [
        "with Session() as s:\n",
        "  s.add_all([ \n",
        "    Author('Jane Austen'),\n",
        "    Author('Leo Tolstoy'),\n",
        "    Author('Joseph Heller'),\n",
        "    Author('Charles Dickens'),\n",
        "    Book('Emma',1),\n",
        "    Book('War and Peace',2),\n",
        "    Book('Catch XII',3),\n",
        "    Book('David Copperfield',4),\n",
        "    Book('Good as Gold',3),\n",
        "    Book('Anna Karenia',2)\n",
        "  ])\n",
        "  s.commit()"
      ],
      "execution_count": 62,
      "outputs": [
        {
          "output_type": "stream",
          "text": [
            "/usr/local/lib/python3.7/dist-packages/ipykernel_launcher.py:3: SAWarning: relationship 'Book.author' will copy column Authors.author_id to column Books.author_id, which conflicts with relationship(s): 'Author.books' (copies Authors.author_id to Books.author_id). If this is not the intention, consider if these relationships should be linked with back_populates, or if viewonly=True should be applied to one or more if they are read-only. For the less common case that foreign key constraints are partially overlapping, the orm.foreign() annotation can be used to isolate the columns that should be written towards.   The 'overlaps' parameter may be used to remove this warning.\n",
            "  This is separate from the ipykernel package so we can avoid doing imports until\n"
          ],
          "name": "stderr"
        }
      ]
    },
    {
      "cell_type": "code",
      "metadata": {
        "id": "QFE04ozveNRQ",
        "outputId": "d1aadf4a-0b69-4f6c-d560-51ad31c21125",
        "colab": {
          "base_uri": "https://localhost:8080/"
        }
      },
      "source": [
        "with Session() as s:\n",
        "  res = s.query(Author).all()\n",
        "  print(res)"
      ],
      "execution_count": 63,
      "outputs": [
        {
          "output_type": "stream",
          "text": [
            "[<Author: Jane Austen>, <Author: Leo Tolstoy>, <Author: Joseph Heller>, <Author: Charles Dickens>]\n"
          ],
          "name": "stdout"
        }
      ]
    },
    {
      "cell_type": "code",
      "metadata": {
        "id": "HTj05lWdeNjG",
        "outputId": "08853a4b-f5fa-4695-e554-5ad609814194",
        "colab": {
          "base_uri": "https://localhost:8080/"
        }
      },
      "source": [
        "with Session() as s:\n",
        "  res = s.query(Book).all()\n",
        "  print(res)"
      ],
      "execution_count": 64,
      "outputs": [
        {
          "output_type": "stream",
          "text": [
            "[<Book: Emma - Jane Austen>, <Book: War and Peace - Leo Tolstoy>, <Book: Catch XII - Joseph Heller>, <Book: David Copperfield - Charles Dickens>, <Book: Good as Gold - Joseph Heller>, <Book: Anna Karenia - Leo Tolstoy>]\n"
          ],
          "name": "stdout"
        }
      ]
    },
    {
      "cell_type": "code",
      "metadata": {
        "id": "MlL6DzkpYQf2",
        "outputId": "0d3ef7f6-b1f0-458a-91bc-9f60cc56a39b",
        "colab": {
          "base_uri": "https://localhost:8080/"
        }
      },
      "source": [
        "with Session() as s:\n",
        "  res = s.query(Author).filter(Author.name==\"Leo Tolstoy\").first()\n",
        "  print(res)\n",
        "  for book in res.books:\n",
        "    print (book.title)"
      ],
      "execution_count": 65,
      "outputs": [
        {
          "output_type": "stream",
          "text": [
            "<Author: Leo Tolstoy>\n",
            "War and Peace\n",
            "Anna Karenia\n"
          ],
          "name": "stdout"
        }
      ]
    },
    {
      "cell_type": "code",
      "metadata": {
        "id": "TGzUeNceYr_h",
        "outputId": "6096ecc5-e867-4d7e-cc74-9b306cbc8de8",
        "colab": {
          "base_uri": "https://localhost:8080/"
        }
      },
      "source": [
        "with Session() as s:\n",
        "  res = s.query(Book).filter(Book.title==\"Emma\").first()    \n",
        "  print(res.author.name)"
      ],
      "execution_count": 66,
      "outputs": [
        {
          "output_type": "stream",
          "text": [
            "Jane Austen\n"
          ],
          "name": "stdout"
        }
      ]
    },
    {
      "cell_type": "code",
      "metadata": {
        "id": "uxdaShMiaSAe"
      },
      "source": [
        ""
      ],
      "execution_count": null,
      "outputs": []
    }
  ]
}